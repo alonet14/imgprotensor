{
 "cells": [
  {
   "cell_type": "code",
   "execution_count": 2,
   "metadata": {
    "collapsed": true,
    "pycharm": {
     "name": "#%%\n"
    }
   },
   "outputs": [
    {
     "name": "stderr",
     "output_type": "stream",
     "text": [
      "INFO:plaidml:Opening device \"opencl_amd_hainan.0\"\n",
      "C:\\Users\\h\\.conda\\envs\\nvhtensorv1\\lib\\site-packages\\ipykernel_launcher.py:19: UserWarning: Update your `Model` call to the Keras 2 API: `Model(inputs=input_1 Pl..., outputs=Mul FLOAT3...)`\n"
     ]
    },
    {
     "name": "stdout",
     "output_type": "stream",
     "text": [
      "[[0.12337962]]\n"
     ]
    }
   ],
   "source": [
    "#reference from website: https://machinelearningmastery.com/return-sequences-and-return-states-for-lstms-in-keras/\n",
    "import plaidml.keras\n",
    "plaidml.keras.install_backend()\n",
    "\n",
    "from keras.models import Model\n",
    "from keras.layers import Input\n",
    "from keras.layers import LSTM\n",
    "from numpy import array\n",
    "\n",
    "#define model\n",
    "#demostrate with a very small model with a single LSTM layer contains a single LSTM cell\n",
    "# one input sample with 3 time step and one feature observed at each time step\n",
    "t1=0.1\n",
    "t2=0.2\n",
    "t3=0.3\n",
    "\n",
    "inputs1=Input(shape=(3, 1))\n",
    "lstm1=LSTM(1)(inputs1)\n",
    "model=Model(inputs=inputs1, output=lstm1)\n",
    "\n",
    "#define input data\n",
    "data=array([0.1, 0.2, 0.3]).reshape(1, 3, 1)\n",
    "\n",
    "#make and show prediction\n",
    "print(model.predict(data))\n"
   ]
  }
 ],
 "metadata": {
  "kernelspec": {
   "display_name": "Python 3",
   "language": "python",
   "name": "python3"
  },
  "language_info": {
   "codemirror_mode": {
    "name": "ipython",
    "version": 2
   },
   "file_extension": ".py",
   "mimetype": "text/x-python",
   "name": "python",
   "nbconvert_exporter": "python",
   "pygments_lexer": "ipython2",
   "version": "2.7.6"
  }
 },
 "nbformat": 4,
 "nbformat_minor": 0
}